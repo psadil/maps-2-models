{
 "cells": [
  {
   "cell_type": "code",
   "execution_count": null,
   "metadata": {},
   "outputs": [],
   "source": [
    "import os\n",
    "import pandas as pd\n",
    "from nimare.meta import ibma\n",
    "import nimare\n",
    "\n",
    "import nilearn\n",
    "import nilearn.datasets\n",
    "from nilearn.datasets import struct\n",
    "\n",
    "from nilearn.plotting import plot_stat_map"
   ]
  },
  {
   "cell_type": "code",
   "execution_count": null,
   "metadata": {},
   "outputs": [],
   "source": [
    "dset = nimare.dataset.Dataset.load(os.path.join('../data-raw/niis/nsub-10_nstudy-10_iter-1_dset.pklz'))\n",
    "dset.update_path('../data-raw/niis')"
   ]
  },
  {
   "cell_type": "code",
   "execution_count": null,
   "metadata": {},
   "outputs": [],
   "source": [
    "dset.images"
   ]
  },
  {
   "cell_type": "code",
   "execution_count": null,
   "metadata": {},
   "outputs": [],
   "source": [
    "meta = ibma.Stouffers(use_sample_size=True, resample=False)\n",
    "meta.fit(dset)"
   ]
  },
  {
   "cell_type": "code",
   "execution_count": null,
   "metadata": {},
   "outputs": [],
   "source": [
    "meta.results.maps"
   ]
  },
  {
   "cell_type": "code",
   "execution_count": null,
   "metadata": {},
   "outputs": [],
   "source": [
    "plot_stat_map(meta.results.get_map(\"z\"), cut_coords=[0, 0, -8], draw_cross=False, cmap=\"RdBu_r\")"
   ]
  },
  {
   "cell_type": "code",
   "execution_count": null,
   "metadata": {},
   "outputs": [],
   "source": [
    "from nimare.tests.utils import get_test_data_path\n",
    "# dset_file = os.path.join(get_test_data_path(), \"nidm_pain_dset.json\")\n",
    "dset = nimare.dataset.Dataset('/home/psadil/.nimare/nidm_21pain/nidm_pain_dset.json')\n",
    "dset.update_path(nimare.extract.download_nidm_pain())"
   ]
  },
  {
   "cell_type": "code",
   "execution_count": null,
   "metadata": {},
   "outputs": [],
   "source": [
    "dset.images"
   ]
  },
  {
   "cell_type": "code",
   "execution_count": null,
   "metadata": {},
   "outputs": [],
   "source": [
    "from nimare.transforms import transform_images"
   ]
  },
  {
   "cell_type": "code",
   "execution_count": null,
   "metadata": {},
   "outputs": [],
   "source": [
    "temp_images = transform_images(\n",
    "      dset.images,\n",
    "      target=\"z\",\n",
    "      masker=dset.masker,\n",
    "      metadata_df=dset.metadata,\n",
    "      out_dir=dset.basepath,\n",
    "      overwrite=True)\n",
    "dset.images = temp_images\n",
    "\n",
    "#  = vp.transform(dset)"
   ]
  },
  {
   "cell_type": "code",
   "execution_count": null,
   "metadata": {},
   "outputs": [],
   "source": [
    "dset.images.varcope[0]"
   ]
  },
  {
   "cell_type": "code",
   "execution_count": null,
   "metadata": {},
   "outputs": [],
   "source": [
    "mfx = ibma.DerSimonianLaird()\n",
    "out=mfx.fit(dset)"
   ]
  },
  {
   "cell_type": "code",
   "execution_count": null,
   "metadata": {},
   "outputs": [],
   "source": [
    "np.nansum(out.maps['est'])"
   ]
  },
  {
   "cell_type": "code",
   "execution_count": null,
   "metadata": {},
   "outputs": [],
   "source": [
    "from nimare.meta.cbma import ALE\n",
    "from nimare.transforms import ImagesToCoordinates\n"
   ]
  },
  {
   "cell_type": "code",
   "execution_count": null,
   "metadata": {},
   "outputs": [],
   "source": [
    "dset = nimare.transforms.ImageTransformer(target=\"z\").transform(dset)\n",
    "coord_replace = ImagesToCoordinates(\n",
    "      merge_strategy=\"replace\", \n",
    "      z_threshold=2.3, \n",
    "      remove_subpeaks=True)\n",
    "dset = coord_replace.transform(dset)   \n",
    "# dset.save(os.path.join(out_dir, f\"{prefix}_dset.pklz\"))\n",
    "ale = ALE()\n",
    "\n",
    "cbma = ale.fit(dset)\n"
   ]
  },
  {
   "cell_type": "code",
   "execution_count": null,
   "metadata": {},
   "outputs": [],
   "source": [
    "cbma."
   ]
  }
 ],
 "metadata": {
  "interpreter": {
   "hash": "cd6cd6951e364a1e4ea759c91e960cee9eee1cfb29cdb625750de53899be7b74"
  },
  "kernelspec": {
   "display_name": "Python 3.9.7 64-bit ('meta': conda)",
   "name": "python3"
  },
  "language_info": {
   "codemirror_mode": {
    "name": "ipython",
    "version": 3
   },
   "file_extension": ".py",
   "mimetype": "text/x-python",
   "name": "python",
   "nbconvert_exporter": "python",
   "pygments_lexer": "ipython3",
   "version": "3.9.7"
  },
  "orig_nbformat": 4
 },
 "nbformat": 4,
 "nbformat_minor": 2
}
